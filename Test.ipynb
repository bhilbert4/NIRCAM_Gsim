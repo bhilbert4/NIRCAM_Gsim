{
 "cells": [
  {
   "cell_type": "code",
   "execution_count": 1,
   "metadata": {
    "collapsed": true
   },
   "outputs": [],
   "source": [
    "import matplotlib.pyplot as plt\n",
    "%matplotlib inline"
   ]
  },
  {
   "cell_type": "code",
   "execution_count": 2,
   "metadata": {
    "collapsed": true
   },
   "outputs": [],
   "source": [
    "import glob, os\n",
    "from astropy.io import fits\n",
    "import numpy as np"
   ]
  },
  {
   "cell_type": "code",
   "execution_count": 3,
   "metadata": {
    "collapsed": false
   },
   "outputs": [
    {
     "name": "stdout",
     "output_type": "stream",
     "text": [
      "disperse/polyclip_c.pyc\n",
      "disperse\n"
     ]
    },
    {
     "data": {
      "text/plain": [
       "<module 'observations' from 'observations.pyc'>"
      ]
     },
     "execution_count": 3,
     "metadata": {},
     "output_type": "execute_result"
    }
   ],
   "source": [
    "import observations\n",
    "reload(observations)"
   ]
  },
  {
   "cell_type": "markdown",
   "metadata": {},
   "source": [
    "<h3>Define what we want...</h3>"
   ]
  },
  {
   "cell_type": "code",
   "execution_count": 4,
   "metadata": {
    "collapsed": false
   },
   "outputs": [],
   "source": [
    "config = \"/Users/npirzkal/Dropbox/GRISMDATA/NIRCAM/NIRCAM_R.conf\"\n",
    "DIRFILTER = \"F430M\"\n",
    "passband = \"/Users/npirzkal/Dropbox/NIRCAM/DATA/%s_passband.dat\" % (DIRFILTER)\n",
    "passband = \"/Users/npirzkal/Dropbox/NIRCAM/DATA/%s_FM.xlsx_filteronly_modA_sorted.txt\" % (DIRFILTER)"
   ]
  },
  {
   "cell_type": "markdown",
   "metadata": {},
   "source": [
    "<h3>Get a list of images:</h3>"
   ]
  },
  {
   "cell_type": "code",
   "execution_count": 5,
   "metadata": {
    "collapsed": false
   },
   "outputs": [],
   "source": [
    "image_names = glob.glob(\"/Users/npirzkal/Dropbox/NIRCAM/bryan_sim/sim_A1_*_GrismDirectImage_elec_per_sec.fits\")"
   ]
  },
  {
   "cell_type": "markdown",
   "metadata": {},
   "source": [
    "<h3> Create a simple segmentation image.. 0 or 1</h3>"
   ]
  },
  {
   "cell_type": "code",
   "execution_count": 6,
   "metadata": {
    "collapsed": false
   },
   "outputs": [],
   "source": [
    "d = fits.open(image_names[0])[1].data\n",
    "seg_data = d * 1. - 10.\n",
    "seg_data[seg_data<.3] = 0\n"
   ]
  },
  {
   "cell_type": "markdown",
   "metadata": {},
   "source": [
    "<h3> Set things up</h3>"
   ]
  },
  {
   "cell_type": "code",
   "execution_count": null,
   "metadata": {
    "collapsed": false,
    "scrolled": true
   },
   "outputs": [
    {
     "name": "stderr",
     "output_type": "stream",
     "text": [
      "/Users/npirzkal/anaconda/lib/python2.7/site-packages/astropy/table/table.py:2424: FutureWarning: comparison to `None` will result in an elementwise object comparison in the future.\n",
      "  result = self.as_array() == other\n"
     ]
    },
    {
     "name": "stdout",
     "output_type": "stream",
     "text": [
      "2389 pixels to process\n",
      "Loaded /Users/npirzkal/Dropbox/NIRCAM/bryan_sim/sim_A1_F090W_GrismDirectImage_elec_per_sec.fits wavelength: 9000.0 A\n",
      "Loaded /Users/npirzkal/Dropbox/NIRCAM/bryan_sim/sim_A1_F182M_GrismDirectImage_elec_per_sec.fits wavelength: 18200.0 A\n",
      "Loaded /Users/npirzkal/Dropbox/NIRCAM/bryan_sim/sim_A1_F210M_GrismDirectImage_elec_per_sec.fits wavelength: 21000.0 A\n",
      "Loaded /Users/npirzkal/Dropbox/NIRCAM/bryan_sim/sim_A1_F300M__GrismDirectImage_elec_per_sec.fits wavelength: 30000.0 A\n",
      "Loaded /Users/npirzkal/Dropbox/NIRCAM/bryan_sim/sim_A1_F360M_GrismDirectImage_elec_per_sec.fits wavelength: 36000.0 A\n",
      "Loaded /Users/npirzkal/Dropbox/NIRCAM/bryan_sim/sim_A1_F410M_GrismDirectImage_elec_per_sec.fits wavelength: 41000.0 A\n",
      "Loaded /Users/npirzkal/Dropbox/NIRCAM/bryan_sim/sim_A1_F480M_GrismDirectImage_elec_per_sec.fits wavelength: 48000.0 A\n"
     ]
    }
   ],
   "source": [
    "this_one = observations.observation(image_names,seg_data,config,passband=passband,passband_unit=\"mu\",order=\"+1\")"
   ]
  },
  {
   "cell_type": "code",
   "execution_count": null,
   "metadata": {
    "collapsed": false
   },
   "outputs": [
    {
     "name": "stderr",
     "output_type": "stream",
     "text": [
      "observations.py:117: VisibleDeprecationWarning: using a non-integer number instead of an integer will result in an error in the future\n",
      "  simulated_image[miny:maxy+1,minx:maxx+1] = simulated_image[miny:maxy+1,minx:maxx+1] + a\n"
     ]
    }
   ],
   "source": [
    "this_one.disperse()"
   ]
  },
  {
   "cell_type": "code",
   "execution_count": null,
   "metadata": {
    "collapsed": false
   },
   "outputs": [],
   "source": [
    "plt.subplot(1,2,1)\n",
    "im = plt.imshow(d)\n",
    "im.set_clim(0,10)\n",
    "plt.subplot(1,2,2)\n",
    "im = plt.imshow(this_one.simulated_image)\n",
    "im.set_clim(0,1000)"
   ]
  },
  {
   "cell_type": "code",
   "execution_count": null,
   "metadata": {
    "collapsed": true
   },
   "outputs": [],
   "source": []
  }
 ],
 "metadata": {
  "anaconda-cloud": {},
  "kernelspec": {
   "display_name": "Python [conda root]",
   "language": "python",
   "name": "conda-root-py"
  },
  "language_info": {
   "codemirror_mode": {
    "name": "ipython",
    "version": 2
   },
   "file_extension": ".py",
   "mimetype": "text/x-python",
   "name": "python",
   "nbconvert_exporter": "python",
   "pygments_lexer": "ipython2",
   "version": "2.7.12"
  }
 },
 "nbformat": 4,
 "nbformat_minor": 2
}
