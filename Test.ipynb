{
 "cells": [
  {
   "cell_type": "code",
   "execution_count": 22,
   "metadata": {
    "collapsed": true
   },
   "outputs": [],
   "source": [
    "import matplotlib.pyplot as plt\n",
    "%matplotlib inline"
   ]
  },
  {
   "cell_type": "code",
   "execution_count": 3,
   "metadata": {
    "collapsed": true
   },
   "outputs": [],
   "source": [
    "import glob, os\n",
    "from astropy.io import fits\n",
    "import numpy as np"
   ]
  },
  {
   "cell_type": "code",
   "execution_count": 14,
   "metadata": {
    "collapsed": true
   },
   "outputs": [],
   "source": [
    "import observations"
   ]
  },
  {
   "cell_type": "markdown",
   "metadata": {},
   "source": [
    "<h3>Define what we want...</h3>"
   ]
  },
  {
   "cell_type": "code",
   "execution_count": 11,
   "metadata": {
    "collapsed": false
   },
   "outputs": [],
   "source": [
    "config = \"/Users/npirzkal/Dropbox/GRISMDATA/NIRCAM/NIRCAM_R.conf\"\n",
    "DIRFILTER = \"F430M\"\n",
    "passband = \"/Users/npirzkal/Dropbox/NIRCAM/DATA/%s_passband.dat\" % (DIRFILTER)"
   ]
  },
  {
   "cell_type": "markdown",
   "metadata": {},
   "source": [
    "<h3>Get a list of images:</h3>"
   ]
  },
  {
   "cell_type": "code",
   "execution_count": 15,
   "metadata": {
    "collapsed": false
   },
   "outputs": [],
   "source": [
    "image_names = glob.glob(\"/Users/npirzkal/Dropbox/NIRCAM/bryan_sim/sim_A1_*_GrismDirectImage_elec_per_sec.fits\")"
   ]
  },
  {
   "cell_type": "markdown",
   "metadata": {},
   "source": [
    "<h3> Create a simple segmentation image.. 0 or 1</h3>"
   ]
  },
  {
   "cell_type": "code",
   "execution_count": 16,
   "metadata": {
    "collapsed": false
   },
   "outputs": [],
   "source": [
    "d = fits.open(image_names[0])[1].data\n",
    "seg_data = d * 1. - 10.\n",
    "seg_data[seg_data<.3] = 0\n"
   ]
  },
  {
   "cell_type": "markdown",
   "metadata": {},
   "source": [
    "<h3> Set things up</h3>"
   ]
  },
  {
   "cell_type": "code",
   "execution_count": 18,
   "metadata": {
    "collapsed": false,
    "scrolled": true
   },
   "outputs": [
    {
     "name": "stdout",
     "output_type": "stream",
     "text": [
      "2389 pixels to process\n",
      "Loaded /Users/npirzkal/Dropbox/NIRCAM/bryan_sim/sim_A1_F090W_GrismDirectImage_elec_per_sec.fits wavelength: 9000.0 A\n",
      "Loaded /Users/npirzkal/Dropbox/NIRCAM/bryan_sim/sim_A1_F182M_GrismDirectImage_elec_per_sec.fits wavelength: 18200.0 A\n",
      "Loaded /Users/npirzkal/Dropbox/NIRCAM/bryan_sim/sim_A1_F210M_GrismDirectImage_elec_per_sec.fits wavelength: 21000.0 A\n",
      "Loaded /Users/npirzkal/Dropbox/NIRCAM/bryan_sim/sim_A1_F300M__GrismDirectImage_elec_per_sec.fits wavelength: 30000.0 A\n",
      "Loaded /Users/npirzkal/Dropbox/NIRCAM/bryan_sim/sim_A1_F360M_GrismDirectImage_elec_per_sec.fits wavelength: 36000.0 A\n",
      "Loaded /Users/npirzkal/Dropbox/NIRCAM/bryan_sim/sim_A1_F410M_GrismDirectImage_elec_per_sec.fits wavelength: 41000.0 A\n",
      "Loaded /Users/npirzkal/Dropbox/NIRCAM/bryan_sim/sim_A1_F480M_GrismDirectImage_elec_per_sec.fits wavelength: 48000.0 A\n"
     ]
    }
   ],
   "source": [
    "this_one = observations.observation(image_names,seg_data,config,passband=passband,order=\"+1\")"
   ]
  },
  {
   "cell_type": "code",
   "execution_count": 19,
   "metadata": {
    "collapsed": false
   },
   "outputs": [
    {
     "name": "stderr",
     "output_type": "stream",
     "text": []
    },
    {
     "name": "stdout",
     "output_type": "stream",
     "text": [
      "2.80539107323 s.\n"
     ]
    },
    {
     "name": "stderr",
     "output_type": "stream",
     "text": [
      " 96%|#########################################################   |ETA:  0:00:00\r",
      " 97%|##########################################################  |ETA:  0:00:00\r",
      " 98%|########################################################### |ETA:  0:00:00\r",
      " 99%|########################################################### |ETA:  0:00:00\r",
      "100%|############################################################|Time: 0:00:02\r\n"
     ]
    }
   ],
   "source": [
    "this_one.disperse()"
   ]
  },
  {
   "cell_type": "code",
   "execution_count": 29,
   "metadata": {
    "collapsed": false
   },
   "outputs": [
    {
     "data": {
      "image/png": "[encoded data removed]",
      "text/plain": [
       "<matplotlib.figure.Figure at 0x1944f0250>"
      ]
     },
     "metadata": {},
     "output_type": "display_data"
    }
   ],
   "source": [
    "plt.subplot(1,2,1)\n",
    "im = plt.imshow(d)\n",
    "im.set_clim(0,10)\n",
    "plt.subplot(1,2,2)\n",
    "im = plt.imshow(this_one.simulated_image)\n",
    "im.set_clim(0,1000)"
   ]
  },
  {
   "cell_type": "code",
   "execution_count": null,
   "metadata": {
    "collapsed": true
   },
   "outputs": [],
   "source": []
  }
 ],
 "metadata": {
  "anaconda-cloud": {},
  "kernelspec": {
   "display_name": "Python [conda root]",
   "language": "python",
   "name": "conda-root-py"
  },
  "language_info": {
   "codemirror_mode": {
    "name": "ipython",
    "version": 2
   },
   "file_extension": ".py",
   "mimetype": "text/x-python",
   "name": "python",
   "nbconvert_exporter": "python",
   "pygments_lexer": "ipython2",
   "version": "2.7.12"
  }
 },
 "nbformat": 4,
 "nbformat_minor": 2
}
