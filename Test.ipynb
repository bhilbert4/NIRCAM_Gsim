{
 "cells": [
  {
   "cell_type": "markdown",
   "metadata": {},
   "source": [
    "To run:\n",
    "    \n",
    "1) Install GRISMCONF from https://github.com/npirzkal/GRISMCONF\n",
    "\n",
    "2) Install GRISM_NIRCAM (NIRCAM configuration files) from https://github.com/npirzkal/GRISM_NIRCAM  \n",
    "    "
   ]
  },
  {
   "cell_type": "code",
   "execution_count": 1,
   "metadata": {
    "collapsed": true
   },
   "outputs": [],
   "source": [
    "import glob, os\n",
    "from astropy.io import fits\n",
    "import numpy as np\n",
    "import matplotlib.pyplot as plt\n",
    "%matplotlib inline"
   ]
  },
  {
   "cell_type": "markdown",
   "metadata": {},
   "source": [
    "<H2>Import NIRCAM Grism Simulator</H2>"
   ]
  },
  {
   "cell_type": "code",
   "execution_count": 2,
   "metadata": {},
   "outputs": [],
   "source": [
    "import NIRCAM_Gsim "
   ]
  },
  {
   "cell_type": "markdown",
   "metadata": {},
   "source": [
    "<h2>Define Grism mode and cross filter</h2>"
   ]
  },
  {
   "cell_type": "code",
   "execution_count": 3,
   "metadata": {},
   "outputs": [
    {
     "name": "stdout",
     "output_type": "stream",
     "text": [
      "/Users/npirzkal/Dropbox/GRISMDATA/NIRCAM/NIRCAM_F444W_modA_C.conf\n"
     ]
    }
   ],
   "source": [
    "mode = \"modA_C\"\n",
    "cross_filter = \"F444W\"\n",
    "config = \"/Users/npirzkal/Dropbox/GRISMDATA/NIRCAM/NIRCAM_%s_%s.conf\" % (cross_filter,mode)\n",
    "print config"
   ]
  },
  {
   "cell_type": "markdown",
   "metadata": {},
   "source": [
    "<h2>Define the NIRCAM images and Segmenation map to use</h2>"
   ]
  },
  {
   "cell_type": "code",
   "execution_count": 4,
   "metadata": {},
   "outputs": [
    {
     "name": "stderr",
     "output_type": "stream",
     "text": [
      "WARNING: Unexpected bytes trailing END keyword: '         5.295172000000E+01'; these bytes will be replaced with spaces on write. [astropy.io.fits.header]\n"
     ]
    }
   ],
   "source": [
    "path = \"/Users/npirzkal/Dropbox/ERS/Steve/Simul/\"\n",
    "\n",
    "image_names = glob.glob(os.path.join(path,\"NIRCAM_215.016290_52.951720_F*.fits\"))\n",
    "seg_data = fits.open(os.path.join(path,\"seg_215.016290_52.951720.fits\"))[0].data\n"
   ]
  },
  {
   "cell_type": "markdown",
   "metadata": {},
   "source": [
    "<h2>Load Segmentation Map</h2>"
   ]
  },
  {
   "cell_type": "code",
   "execution_count": 5,
   "metadata": {},
   "outputs": [],
   "source": [
    "seg_data = fits.open(\"/Users/npirzkal/Dropbox/ERS/Steve/Simul/seg_215.016290_52.951720.fits\")[0].data\n"
   ]
  },
  {
   "cell_type": "markdown",
   "metadata": {},
   "source": [
    "<h2>Initialize Scene</h2>"
   ]
  },
  {
   "cell_type": "code",
   "execution_count": 6,
   "metadata": {},
   "outputs": [
    {
     "name": "stdout",
     "output_type": "stream",
     "text": [
      "376343 pixels to process\n",
      "('Loaded', '/Users/npirzkal/Dropbox/ERS/Steve/Simul/NIRCAM_215.016290_52.951720_F250M.fits', 'wavelength:', 2.503934121323605, 'A')\n",
      "('Loaded', '/Users/npirzkal/Dropbox/ERS/Steve/Simul/NIRCAM_215.016290_52.951720_F356W.fits', 'wavelength:', 3.564268099171214, 'A')\n",
      "('Loaded', '/Users/npirzkal/Dropbox/ERS/Steve/Simul/NIRCAM_215.016290_52.951720_F410M.fits', 'wavelength:', 4.071976935289439, 'A')\n",
      "('Loaded', '/Users/npirzkal/Dropbox/ERS/Steve/Simul/NIRCAM_215.016290_52.951720_F480M.fits', 'wavelength:', 4.794048782644316, 'A')\n",
      "Splitting in chunks of 100\n"
     ]
    }
   ],
   "source": [
    "this_one = NIRCAM_Gsim.observation(image_names,seg_data,config,cross_filter=cross_filter,order=\"+1\")"
   ]
  },
  {
   "cell_type": "code",
   "execution_count": null,
   "metadata": {},
   "outputs": [
    {
     "name": "stdout",
     "output_type": "stream",
     "text": [
      "1 of 100\n",
      "3764 pixels loaded for dispersion...\n"
     ]
    },
    {
     "name": "stderr",
     "output_type": "stream",
     "text": [
      " 21%|############                                                |ETA:  0:02:47\r"
     ]
    }
   ],
   "source": [
    "this_one.disperse_all()"
   ]
  },
  {
   "cell_type": "code",
   "execution_count": null,
   "metadata": {},
   "outputs": [],
   "source": [
    "simul = this_one.simulated_image[200:-200,200:-200]\n",
    "background = \"/Users/npirzkal/Dropbox/GRISMDATA/NIRCAM/%s_%s.fits\" % (cross_filter,mode)\n",
    "simul2 = simul + fits.open(background)[0].data\n",
    "\n",
    "fits.writeto(\"test.fits\",simul,clobber=True)\n",
    "fits.writeto(\"test2.fits\",simul,clobber=True)\n"
   ]
  },
  {
   "cell_type": "code",
   "execution_count": null,
   "metadata": {},
   "outputs": [],
   "source": [
    "im = plt.imshow(simul,origin=\"lower\")\n",
    "im.set_clim(0,.1)"
   ]
  },
  {
   "cell_type": "code",
   "execution_count": null,
   "metadata": {},
   "outputs": [],
   "source": [
    "im = plt.imshow(simul2,origin=\"lower\")\n",
    "print np.mean(simul2)\n",
    "im.set_clim(.6,1.)"
   ]
  },
  {
   "cell_type": "code",
   "execution_count": null,
   "metadata": {
    "collapsed": true
   },
   "outputs": [],
   "source": []
  }
 ],
 "metadata": {
  "anaconda-cloud": {},
  "kernelspec": {
   "display_name": "Python [default]",
   "language": "python",
   "name": "python2"
  },
  "language_info": {
   "codemirror_mode": {
    "name": "ipython",
    "version": 2
   },
   "file_extension": ".py",
   "mimetype": "text/x-python",
   "name": "python",
   "nbconvert_exporter": "python",
   "pygments_lexer": "ipython2",
   "version": "2.7.13"
  }
 },
 "nbformat": 4,
 "nbformat_minor": 1
}
