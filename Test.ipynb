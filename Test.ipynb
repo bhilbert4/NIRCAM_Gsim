{
 "cells": [
  {
   "cell_type": "code",
   "execution_count": 1,
   "metadata": {
    "collapsed": true
   },
   "outputs": [],
   "source": [
    "import glob, os\n",
    "from astropy.io import fits\n",
    "import numpy as np\n"
   ]
  },
  {
   "cell_type": "code",
   "execution_count": 4,
   "metadata": {
    "collapsed": false
   },
   "outputs": [],
   "source": [
    "import NIRCAM_Gsim"
   ]
  },
  {
   "cell_type": "code",
   "execution_count": 10,
   "metadata": {
    "collapsed": true
   },
   "outputs": [],
   "source": [
    "config = \"/Users/npirzkal/Dropbox/GRISMDATA/NIRCAM/NIRCAM_modA_C.conf\"\n",
    "DIRFILTER = None\n",
    "if DIRFILTER!=None:\n",
    "    passband = \"/Users/npirzkal/Dropbox/NIRCAM/DATA/%s_FM.xlsx_filteronly_modA_sorted.txt\" % (DIRFILTER)\n",
    "else:\n",
    "    passband = None\n",
    "    "
   ]
  },
  {
   "cell_type": "code",
   "execution_count": 11,
   "metadata": {
    "collapsed": true
   },
   "outputs": [],
   "source": [
    "image_names = glob.glob(\"/Users/npirzkal/Dropbox/NIRCAM/GRISMCONF_SIM/macs0647/*_drz_F*.fits\")\n",
    "\n"
   ]
  },
  {
   "cell_type": "code",
   "execution_count": 12,
   "metadata": {
    "collapsed": false
   },
   "outputs": [
    {
     "name": "stdout",
     "output_type": "stream",
     "text": [
      "dir0: /Users/npirzkal/Dropbox/NIRCAM/GRISMCONF_SIM\n",
      "dir: 1\n",
      "dir0: /Users/npirzkal/Dropbox/NIRCAM/GRISMCONF_SIM\n",
      "dir: 1\n"
     ]
    }
   ],
   "source": [
    "def rebin(a, shape):\n",
    "    sh = shape[0],a.shape[0]//shape[0],shape[1],a.shape[1]//shape[1]\n",
    "    return a.reshape(sh).mean(-1).mean(1)\n",
    "\n",
    "\n",
    "seg_data = fits.open(\"/Users/npirzkal/Dropbox/NIRCAM/GRISMCONF_SIM/macs0647/z11_seg.fits\")[0].data\n",
    "seg_data = rebin(seg_data,np.array((5000,5000)))\n",
    "import nf\n",
    "\n",
    "\n",
    "nf.disp(seg_data)\n",
    "#seg_data[seg_data!=3469] = 0.\n",
    "seg_data[seg_data!=0] = 1.\n",
    "nf.disp(seg_data,2)\n",
    "\n"
   ]
  },
  {
   "cell_type": "code",
   "execution_count": 13,
   "metadata": {
    "collapsed": false
   },
   "outputs": [
    {
     "name": "stdout",
     "output_type": "stream",
     "text": [
      "485713 pixels to process\n",
      "Loaded /Users/npirzkal/Dropbox/NIRCAM/GRISMCONF_SIM/macs0647/hlsp_clash_hst_wfc3ir-30mas_macs0647_f105w_v1_drz_F250M.fits wavelength: 25039.0 A\n",
      "Loaded /Users/npirzkal/Dropbox/NIRCAM/GRISMCONF_SIM/macs0647/hlsp_clash_hst_wfc3ir-30mas_macs0647_f110w_v1_drz_F360M.fits wavelength: 36247.0 A\n",
      "Loaded /Users/npirzkal/Dropbox/NIRCAM/GRISMCONF_SIM/macs0647/hlsp_clash_hst_wfc3ir-30mas_macs0647_f125w_v1_drz_F410M.fits wavelength: 40720.0 A\n",
      "Loaded /Users/npirzkal/Dropbox/NIRCAM/GRISMCONF_SIM/macs0647/hlsp_clash_hst_wfc3ir-30mas_macs0647_f140w_v1_drz_F460M.fits wavelength: 46350.0 A\n",
      "Loaded /Users/npirzkal/Dropbox/NIRCAM/GRISMCONF_SIM/macs0647/hlsp_clash_hst_wfc3ir-30mas_macs0647_f160w_v1_drz_F480M.fits wavelength: 47941.0 A\n",
      "Splitting in chunks of 100\n"
     ]
    }
   ],
   "source": [
    "this_one = NIRCAM_Gsim.observation(image_names,seg_data,config,passband=passband,passband_unit=\"mu\",order=\"+1\")"
   ]
  },
  {
   "cell_type": "code",
   "execution_count": 14,
   "metadata": {
    "collapsed": false
   },
   "outputs": [
    {
     "name": "stdout",
     "output_type": "stream",
     "text": [
      "4857\n",
      "4858\n"
     ]
    },
    {
     "data": {
      "text/plain": [
       "38.333333333333336"
      ]
     },
     "execution_count": 14,
     "metadata": {},
     "output_type": "execute_result"
    }
   ],
   "source": [
    "tt = this_one.fs[25038.999999999996] * 1\n",
    "print len(this_one.fs[25038.999999999996][99])\n",
    "print len(this_one.xs[0])\n",
    "100*23/60."
   ]
  },
  {
   "cell_type": "code",
   "execution_count": 15,
   "metadata": {
    "collapsed": false
   },
   "outputs": [
    {
     "name": "stdout",
     "output_type": "stream",
     "text": [
      "1 of 100\n",
      "4858 pixels loaded for dispersion...\n"
     ]
    },
    {
     "name": "stderr",
     "output_type": "stream",
     "text": [
      "100%|############################################################|Time: 0:00:40\n"
     ]
    },
    {
     "name": "stdout",
     "output_type": "stream",
     "text": [
      "40.2631940842 s.\n",
      "dir0: /Users/npirzkal/Dropbox/NIRCAM/GRISMCONF_SIM\n",
      "dir: 1\n",
      "2 of 100\n",
      "4858 pixels loaded for dispersion...\n"
     ]
    },
    {
     "name": "stderr",
     "output_type": "stream",
     "text": [
      "100%|############################################################|Time: 0:00:42\n"
     ]
    },
    {
     "name": "stdout",
     "output_type": "stream",
     "text": [
      "42.4991738796 s.\n",
      "dir0: /Users/npirzkal/Dropbox/NIRCAM/GRISMCONF_SIM\n",
      "dir: 1\n",
      "3 of 100\n",
      "4858 pixels loaded for dispersion...\n"
     ]
    },
    {
     "name": "stderr",
     "output_type": "stream",
     "text": [
      "100%|############################################################|Time: 0:00:41\n"
     ]
    },
    {
     "name": "stdout",
     "output_type": "stream",
     "text": [
      "41.4103181362 s.\n",
      "dir0: /Users/npirzkal/Dropbox/NIRCAM/GRISMCONF_SIM\n",
      "dir: 1\n",
      "4 of 100\n",
      "4858 pixels loaded for dispersion...\n"
     ]
    },
    {
     "name": "stderr",
     "output_type": "stream",
     "text": [
      "100%|############################################################|Time: 0:00:43\n"
     ]
    },
    {
     "name": "stdout",
     "output_type": "stream",
     "text": [
      "43.4231090546 s.\n",
      "dir0: /Users/npirzkal/Dropbox/NIRCAM/GRISMCONF_SIM\n",
      "dir: 1\n",
      "5 of 100\n",
      "4858 pixels loaded for dispersion...\n"
     ]
    },
    {
     "name": "stderr",
     "output_type": "stream",
     "text": [
      "100%|############################################################|Time: 0:00:43\n"
     ]
    },
    {
     "name": "stdout",
     "output_type": "stream",
     "text": [
      "43.3940629959 s.\n",
      "dir0: /Users/npirzkal/Dropbox/NIRCAM/GRISMCONF_SIM\n",
      "dir: 1\n",
      "6 of 100\n",
      "4858 pixels loaded for dispersion...\n"
     ]
    },
    {
     "name": "stderr",
     "output_type": "stream",
     "text": [
      "100%|############################################################|Time: 0:00:42\n"
     ]
    },
    {
     "name": "stdout",
     "output_type": "stream",
     "text": [
      "42.3710069656 s.\n",
      "dir0: /Users/npirzkal/Dropbox/NIRCAM/GRISMCONF_SIM\n",
      "dir: 1\n",
      "7 of 100\n",
      "4858 pixels loaded for dispersion...\n"
     ]
    },
    {
     "name": "stderr",
     "output_type": "stream",
     "text": [
      "100%|############################################################|Time: 0:00:41\n"
     ]
    },
    {
     "name": "stdout",
     "output_type": "stream",
     "text": [
      "41.4019181728 s.\n",
      "dir0: /Users/npirzkal/Dropbox/NIRCAM/GRISMCONF_SIM\n",
      "dir: 1\n",
      "8 of 100\n",
      "4858 pixels loaded for dispersion...\n"
     ]
    },
    {
     "name": "stderr",
     "output_type": "stream",
     "text": [
      "100%|############################################################|Time: 0:00:40\n"
     ]
    },
    {
     "name": "stdout",
     "output_type": "stream",
     "text": [
      "40.7684080601 s.\n",
      "dir0: /Users/npirzkal/Dropbox/NIRCAM/GRISMCONF_SIM\n",
      "dir: 1\n",
      "9 of 100\n",
      "4858 pixels loaded for dispersion...\n"
     ]
    },
    {
     "name": "stderr",
     "output_type": "stream",
     "text": [
      "100%|############################################################|Time: 0:00:42\n"
     ]
    },
    {
     "name": "stdout",
     "output_type": "stream",
     "text": [
      "43.0165779591 s.\n",
      "dir0: /Users/npirzkal/Dropbox/NIRCAM/GRISMCONF_SIM\n",
      "dir: 1\n",
      "10 of 100\n",
      "4858 pixels loaded for dispersion...\n"
     ]
    },
    {
     "name": "stderr",
     "output_type": "stream",
     "text": [
      "100%|############################################################|Time: 0:00:40\n"
     ]
    },
    {
     "name": "stdout",
     "output_type": "stream",
     "text": [
      "40.829365015 s.\n",
      "dir0: /Users/npirzkal/Dropbox/NIRCAM/GRISMCONF_SIM\n",
      "dir: 1\n",
      "11 of 100\n",
      "4858 pixels loaded for dispersion...\n"
     ]
    },
    {
     "name": "stderr",
     "output_type": "stream",
     "text": [
      "100%|############################################################|Time: 0:00:46\n"
     ]
    },
    {
     "name": "stdout",
     "output_type": "stream",
     "text": [
      "46.5728328228 s.\n",
      "dir0: /Users/npirzkal/Dropbox/NIRCAM/GRISMCONF_SIM\n",
      "dir: 1\n",
      "12 of 100\n",
      "4858 pixels loaded for dispersion...\n"
     ]
    },
    {
     "name": "stderr",
     "output_type": "stream",
     "text": [
      "100%|############################################################|Time: 0:00:40\n"
     ]
    },
    {
     "name": "stdout",
     "output_type": "stream",
     "text": [
      "40.8850250244 s.\n",
      "dir0: /Users/npirzkal/Dropbox/NIRCAM/GRISMCONF_SIM\n",
      "dir: 1\n",
      "13 of 100\n",
      "4858 pixels loaded for dispersion...\n"
     ]
    },
    {
     "name": "stderr",
     "output_type": "stream",
     "text": [
      "100%|############################################################|Time: 0:00:41\n"
     ]
    },
    {
     "name": "stdout",
     "output_type": "stream",
     "text": [
      "41.1137211323 s.\n",
      "dir0: /Users/npirzkal/Dropbox/NIRCAM/GRISMCONF_SIM\n",
      "dir: 1\n",
      "14 of 100\n",
      "4857 pixels loaded for dispersion...\n"
     ]
    },
    {
     "name": "stderr",
     "output_type": "stream",
     "text": [
      "100%|############################################################|Time: 0:00:41\n"
     ]
    },
    {
     "name": "stdout",
     "output_type": "stream",
     "text": [
      "41.0501630306 s.\n",
      "dir0: /Users/npirzkal/Dropbox/NIRCAM/GRISMCONF_SIM\n",
      "dir: 1\n",
      "15 of 100\n",
      "4857 pixels loaded for dispersion...\n"
     ]
    },
    {
     "name": "stderr",
     "output_type": "stream",
     "text": [
      "100%|############################################################|Time: 0:00:40\n"
     ]
    },
    {
     "name": "stdout",
     "output_type": "stream",
     "text": [
      "40.3474459648 s.\n",
      "dir0: /Users/npirzkal/Dropbox/NIRCAM/GRISMCONF_SIM\n",
      "dir: 1\n",
      "16 of 100\n",
      "4857 pixels loaded for dispersion...\n"
     ]
    },
    {
     "name": "stderr",
     "output_type": "stream",
     "text": [
      "100%|############################################################|Time: 0:00:44\n"
     ]
    },
    {
     "name": "stdout",
     "output_type": "stream",
     "text": [
      "44.866631031 s.\n",
      "dir0: /Users/npirzkal/Dropbox/NIRCAM/GRISMCONF_SIM\n",
      "dir: 1\n",
      "17 of 100\n",
      "4857 pixels loaded for dispersion...\n"
     ]
    },
    {
     "name": "stderr",
     "output_type": "stream",
     "text": [
      "100%|############################################################|Time: 0:00:43\n"
     ]
    },
    {
     "name": "stdout",
     "output_type": "stream",
     "text": [
      "43.1404089928 s.\n",
      "dir0: /Users/npirzkal/Dropbox/NIRCAM/GRISMCONF_SIM\n",
      "dir: 1\n",
      "18 of 100\n",
      "4857 pixels loaded for dispersion...\n"
     ]
    },
    {
     "name": "stderr",
     "output_type": "stream",
     "text": [
      "100%|############################################################|Time: 0:00:43\n"
     ]
    },
    {
     "name": "stdout",
     "output_type": "stream",
     "text": [
      "43.4022099972 s.\n",
      "dir0: /Users/npirzkal/Dropbox/NIRCAM/GRISMCONF_SIM\n",
      "dir: 1\n",
      "19 of 100\n",
      "4857 pixels loaded for dispersion...\n"
     ]
    },
    {
     "name": "stderr",
     "output_type": "stream",
     "text": [
      "100%|############################################################|Time: 0:00:40\n"
     ]
    },
    {
     "name": "stdout",
     "output_type": "stream",
     "text": [
      "40.1976499557 s.\n",
      "dir0: /Users/npirzkal/Dropbox/NIRCAM/GRISMCONF_SIM\n",
      "dir: 1\n",
      "20 of 100\n",
      "4857 pixels loaded for dispersion...\n"
     ]
    },
    {
     "name": "stderr",
     "output_type": "stream",
     "text": [
      "100%|############################################################|Time: 0:00:44\n"
     ]
    },
    {
     "name": "stdout",
     "output_type": "stream",
     "text": [
      "44.4998679161 s.\n",
      "dir0: /Users/npirzkal/Dropbox/NIRCAM/GRISMCONF_SIM\n",
      "dir: 1\n",
      "21 of 100\n",
      "4857 pixels loaded for dispersion...\n"
     ]
    },
    {
     "name": "stderr",
     "output_type": "stream",
     "text": [
      "100%|############################################################|Time: 0:00:41\n"
     ]
    },
    {
     "name": "stdout",
     "output_type": "stream",
     "text": [
      "41.7855651379 s.\n",
      "dir0: /Users/npirzkal/Dropbox/NIRCAM/GRISMCONF_SIM\n",
      "dir: 1\n",
      "22 of 100\n",
      "4857 pixels loaded for dispersion...\n"
     ]
    },
    {
     "name": "stderr",
     "output_type": "stream",
     "text": [
      "100%|############################################################|Time: 0:00:43\n"
     ]
    },
    {
     "name": "stdout",
     "output_type": "stream",
     "text": [
      "43.699985981 s.\n",
      "dir0: /Users/npirzkal/Dropbox/NIRCAM/GRISMCONF_SIM\n",
      "dir: 1\n",
      "23 of 100\n",
      "4857 pixels loaded for dispersion...\n"
     ]
    },
    {
     "name": "stderr",
     "output_type": "stream",
     "text": []
    },
    {
     "name": "stdout",
     "output_type": "stream",
     "text": [
      "44.8373320103 s.\n",
      "dir0: /Users/npirzkal/Dropbox/NIRCAM/GRISMCONF_SIM\n",
      "dir: 1\n",
      "24 of 100\n",
      "4857 pixels loaded for dispersion...\n"
     ]
    },
    {
     "name": "stderr",
     "output_type": "stream",
     "text": [
      "\n",
      "100%|############################################################|Time: 0:00:43\n"
     ]
    },
    {
     "name": "stdout",
     "output_type": "stream",
     "text": [
      "43.9644248486 s.\n",
      "dir0: /Users/npirzkal/Dropbox/NIRCAM/GRISMCONF_SIM\n",
      "dir: 1\n",
      "25 of 100\n",
      "4857 pixels loaded for dispersion...\n"
     ]
    },
    {
     "name": "stderr",
     "output_type": "stream",
     "text": [
      "100%|############################################################|Time: 0:00:42\n"
     ]
    },
    {
     "name": "stdout",
     "output_type": "stream",
     "text": [
      "42.3071660995 s.\n",
      "dir0: /Users/npirzkal/Dropbox/NIRCAM/GRISMCONF_SIM\n",
      "dir: 1\n",
      "26 of 100\n",
      "4857 pixels loaded for dispersion...\n"
     ]
    },
    {
     "name": "stderr",
     "output_type": "stream",
     "text": [
      "100%|############################################################|Time: 0:00:39\n"
     ]
    },
    {
     "name": "stdout",
     "output_type": "stream",
     "text": [
      "39.7943069935 s.\n",
      "dir0: /Users/npirzkal/Dropbox/NIRCAM/GRISMCONF_SIM\n",
      "dir: 1\n",
      "27 of 100\n",
      "4857 pixels loaded for dispersion...\n"
     ]
    },
    {
     "name": "stderr",
     "output_type": "stream",
     "text": [
      "100%|############################################################|Time: 0:00:45\n"
     ]
    },
    {
     "name": "stdout",
     "output_type": "stream",
     "text": [
      "45.9303209782 s.\n",
      "dir0: /Users/npirzkal/Dropbox/NIRCAM/GRISMCONF_SIM\n",
      "dir: 1\n",
      "28 of 100\n",
      "4857 pixels loaded for dispersion...\n"
     ]
    },
    {
     "name": "stderr",
     "output_type": "stream",
     "text": []
    },
    {
     "name": "stdout",
     "output_type": "stream",
     "text": [
      "44.5631070137 s.\n",
      "dir0: /Users/npirzkal/Dropbox/NIRCAM/GRISMCONF_SIM\n",
      "dir:"
     ]
    },
    {
     "name": "stderr",
     "output_type": "stream",
     "text": [
      " 99%|########################################################### |ETA:  0:00:00\r",
      "100%|############################################################|Time: 0:00:44\r\n"
     ]
    },
    {
     "ename": "ValueError",
     "evalue": "ds9 is no longer running (a00421e:52770)",
     "output_type": "error",
     "traceback": [
      "\u001b[0;31m---------------------------------------------------------------------------\u001b[0m",
      "\u001b[0;31mValueError\u001b[0m                                Traceback (most recent call last)",
      "\u001b[0;32m<ipython-input-15-27f0ba2282c0>\u001b[0m in \u001b[0;36m<module>\u001b[0;34m()\u001b[0m\n\u001b[0;32m----> 1\u001b[0;31m \u001b[0mthis_one\u001b[0m\u001b[0;34m.\u001b[0m\u001b[0mdisperse_all\u001b[0m\u001b[0;34m(\u001b[0m\u001b[0;34m)\u001b[0m\u001b[0;34m\u001b[0m\u001b[0m\n\u001b[0m",
      "\u001b[0;32m/Users/npirzkal/Dropbox/NIRCAM/GRISMCONF_SIM/NIRCAM_Gsim/observations/observations.pyc\u001b[0m in \u001b[0;36mdisperse_all\u001b[0;34m(self)\u001b[0m\n\u001b[1;32m     98\u001b[0m             \u001b[0mself\u001b[0m\u001b[0;34m.\u001b[0m\u001b[0mdisperse_chunk\u001b[0m\u001b[0;34m(\u001b[0m\u001b[0mc\u001b[0m\u001b[0;34m)\u001b[0m\u001b[0;34m\u001b[0m\u001b[0m\n\u001b[1;32m     99\u001b[0m             \u001b[0;32mimport\u001b[0m \u001b[0mnf\u001b[0m\u001b[0;34m\u001b[0m\u001b[0m\n\u001b[0;32m--> 100\u001b[0;31m             \u001b[0mnf\u001b[0m\u001b[0;34m.\u001b[0m\u001b[0mdisp\u001b[0m\u001b[0;34m(\u001b[0m\u001b[0mself\u001b[0m\u001b[0;34m.\u001b[0m\u001b[0msimulated_image\u001b[0m\u001b[0;34m,\u001b[0m\u001b[0;36m2\u001b[0m\u001b[0;34m)\u001b[0m\u001b[0;34m\u001b[0m\u001b[0m\n\u001b[0m\u001b[1;32m    101\u001b[0m \u001b[0;34m\u001b[0m\u001b[0m\n\u001b[1;32m    102\u001b[0m     \u001b[0;32mdef\u001b[0m \u001b[0mdisperse_chunk\u001b[0m\u001b[0;34m(\u001b[0m\u001b[0mself\u001b[0m\u001b[0;34m,\u001b[0m\u001b[0mc\u001b[0m\u001b[0;34m)\u001b[0m\u001b[0;34m:\u001b[0m\u001b[0;34m\u001b[0m\u001b[0m\n",
      "\u001b[0;32m/Users/npirzkal/Dropbox/Python/nf.pyc\u001b[0m in \u001b[0;36mdisp\u001b[0;34m(f, frame, z1, z2, zoom)\u001b[0m\n\u001b[1;32m    180\u001b[0m         \u001b[0;32mglobal\u001b[0m \u001b[0mdisp_z2\u001b[0m\u001b[0;34m\u001b[0m\u001b[0m\n\u001b[1;32m    181\u001b[0m \u001b[0;34m\u001b[0m\u001b[0m\n\u001b[0;32m--> 182\u001b[0;31m         \u001b[0mcheck_dir\u001b[0m\u001b[0;34m(\u001b[0m\u001b[0;34m)\u001b[0m\u001b[0;34m\u001b[0m\u001b[0m\n\u001b[0m\u001b[1;32m    183\u001b[0m \u001b[0;34m\u001b[0m\u001b[0m\n\u001b[1;32m    184\u001b[0m         \u001b[0;32mif\u001b[0m \u001b[0mtype\u001b[0m\u001b[0;34m(\u001b[0m\u001b[0mf\u001b[0m\u001b[0;34m)\u001b[0m\u001b[0;34m==\u001b[0m\u001b[0mnp\u001b[0m\u001b[0;34m.\u001b[0m\u001b[0mndarray\u001b[0m\u001b[0;34m:\u001b[0m\u001b[0;34m\u001b[0m\u001b[0m\n",
      "\u001b[0;32m/Users/npirzkal/Dropbox/Python/nf.pyc\u001b[0m in \u001b[0;36mcheck_dir\u001b[0;34m()\u001b[0m\n\u001b[1;32m     35\u001b[0m         \u001b[0mdir\u001b[0m \u001b[0;34m=\u001b[0m \u001b[0mos\u001b[0m\u001b[0;34m.\u001b[0m\u001b[0mgetcwd\u001b[0m\u001b[0;34m(\u001b[0m\u001b[0;34m)\u001b[0m\u001b[0;34m\u001b[0m\u001b[0m\n\u001b[1;32m     36\u001b[0m         \u001b[0;32mprint\u001b[0m \u001b[0;34m\"dir0:\"\u001b[0m\u001b[0;34m,\u001b[0m\u001b[0mdir\u001b[0m\u001b[0;34m\u001b[0m\u001b[0m\n\u001b[0;32m---> 37\u001b[0;31m         \u001b[0;32mprint\u001b[0m \u001b[0;34m\"dir:\"\u001b[0m\u001b[0;34m,\u001b[0m\u001b[0mnf_ds9\u001b[0m\u001b[0;34m.\u001b[0m\u001b[0mset\u001b[0m\u001b[0;34m(\u001b[0m\u001b[0;34m\"cd %s\"\u001b[0m \u001b[0;34m%\u001b[0m \u001b[0;34m(\u001b[0m\u001b[0mdir\u001b[0m\u001b[0;34m)\u001b[0m\u001b[0;34m)\u001b[0m\u001b[0;34m\u001b[0m\u001b[0m\n\u001b[0m\u001b[1;32m     38\u001b[0m \u001b[0;34m\u001b[0m\u001b[0m\n\u001b[1;32m     39\u001b[0m \u001b[0;32mdef\u001b[0m \u001b[0mreinit\u001b[0m\u001b[0;34m(\u001b[0m\u001b[0;34m)\u001b[0m\u001b[0;34m:\u001b[0m\u001b[0;34m\u001b[0m\u001b[0m\n",
      "\u001b[0;32m/Users/npirzkal/anaconda/lib/python2.7/site-packages/pyds9.pyc\u001b[0m in \u001b[0;36mset\u001b[0;34m(self, paramlist, buf, blen)\u001b[0m\n\u001b[1;32m    564\u001b[0m \u001b[0;34m\u001b[0m\u001b[0m\n\u001b[1;32m    565\u001b[0m         \"\"\"\n\u001b[0;32m--> 566\u001b[0;31m         \u001b[0mself\u001b[0m\u001b[0;34m.\u001b[0m\u001b[0m_selftest\u001b[0m\u001b[0;34m(\u001b[0m\u001b[0;34m)\u001b[0m\u001b[0;34m\u001b[0m\u001b[0m\n\u001b[0m\u001b[1;32m    567\u001b[0m         \u001b[0;32mif\u001b[0m \u001b[0mds9Globals\u001b[0m\u001b[0;34m[\u001b[0m\u001b[0;34m\"numpy\"\u001b[0m\u001b[0;34m]\u001b[0m \u001b[0;32mand\u001b[0m \u001b[0mtype\u001b[0m\u001b[0;34m(\u001b[0m\u001b[0mbuf\u001b[0m\u001b[0;34m)\u001b[0m \u001b[0;34m==\u001b[0m \u001b[0mnumpy\u001b[0m\u001b[0;34m.\u001b[0m\u001b[0mndarray\u001b[0m\u001b[0;34m:\u001b[0m\u001b[0;34m\u001b[0m\u001b[0m\n\u001b[1;32m    568\u001b[0m                 \u001b[0ms\u001b[0m \u001b[0;34m=\u001b[0m \u001b[0mbuf\u001b[0m\u001b[0;34m.\u001b[0m\u001b[0mtostring\u001b[0m\u001b[0;34m(\u001b[0m\u001b[0;34m)\u001b[0m\u001b[0;34m\u001b[0m\u001b[0m\n",
      "\u001b[0;32m/Users/npirzkal/anaconda/lib/python2.7/site-packages/pyds9.pyc\u001b[0m in \u001b[0;36m_selftest\u001b[0;34m(self)\u001b[0m\n\u001b[1;32m    490\u001b[0m         if self.verify and not xpa.xpaaccess(string_to_bytes(self.id), None,\n\u001b[1;32m    491\u001b[0m                                              1):\n\u001b[0;32m--> 492\u001b[0;31m             \u001b[0;32mraise\u001b[0m \u001b[0mValueError\u001b[0m\u001b[0;34m(\u001b[0m\u001b[0;34m'ds9 is no longer running (%s)'\u001b[0m \u001b[0;34m%\u001b[0m \u001b[0mself\u001b[0m\u001b[0;34m.\u001b[0m\u001b[0mid\u001b[0m\u001b[0;34m)\u001b[0m\u001b[0;34m\u001b[0m\u001b[0m\n\u001b[0m\u001b[1;32m    493\u001b[0m \u001b[0;34m\u001b[0m\u001b[0m\n\u001b[1;32m    494\u001b[0m     \u001b[0;32mdef\u001b[0m \u001b[0mget\u001b[0m\u001b[0;34m(\u001b[0m\u001b[0mself\u001b[0m\u001b[0;34m,\u001b[0m \u001b[0mparamlist\u001b[0m\u001b[0;34m=\u001b[0m\u001b[0mNone\u001b[0m\u001b[0;34m,\u001b[0m \u001b[0mdecode\u001b[0m\u001b[0;34m=\u001b[0m\u001b[0mNone\u001b[0m\u001b[0;34m)\u001b[0m\u001b[0;34m:\u001b[0m\u001b[0;34m\u001b[0m\u001b[0m\n",
      "\u001b[0;31mValueError\u001b[0m: ds9 is no longer running (a00421e:52770)"
     ]
    }
   ],
   "source": [
    "this_one.disperse_all()"
   ]
  },
  {
   "cell_type": "code",
   "execution_count": null,
   "metadata": {
    "collapsed": false
   },
   "outputs": [],
   "source": [
    "import NIRCAM_Gsim\n",
    "#import NIRCAM_Gsim.polyclip\n"
   ]
  },
  {
   "cell_type": "code",
   "execution_count": null,
   "metadata": {
    "collapsed": false
   },
   "outputs": [],
   "source": [
    "dir(NIRCAM_Gsim.polyclip.polyclip.polyclip_multi4 )"
   ]
  },
  {
   "cell_type": "code",
   "execution_count": null,
   "metadata": {
    "collapsed": true
   },
   "outputs": [],
   "source": []
  }
 ],
 "metadata": {
  "anaconda-cloud": {},
  "kernelspec": {
   "display_name": "Python [default]",
   "language": "python",
   "name": "python2"
  },
  "language_info": {
   "codemirror_mode": {
    "name": "ipython",
    "version": 2
   },
   "file_extension": ".py",
   "mimetype": "text/x-python",
   "name": "python",
   "nbconvert_exporter": "python",
   "pygments_lexer": "ipython2",
   "version": "2.7.12"
  }
 },
 "nbformat": 4,
 "nbformat_minor": 1
}
