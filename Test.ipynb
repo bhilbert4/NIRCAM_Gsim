{
 "cells": [
  {
   "cell_type": "code",
   "execution_count": 1,
   "metadata": {
    "collapsed": true
   },
   "outputs": [],
   "source": [
    "import glob, os\n",
    "from astropy.io import fits\n",
    "import numpy as np\n"
   ]
  },
  {
   "cell_type": "code",
   "execution_count": 4,
   "metadata": {
    "collapsed": false
   },
   "outputs": [],
   "source": [
    "import NIRCAM_Gsim"
   ]
  },
  {
   "cell_type": "code",
   "execution_count": 10,
   "metadata": {
    "collapsed": true
   },
   "outputs": [],
   "source": [
    "config = \"/Users/npirzkal/Dropbox/GRISMDATA/NIRCAM/NIRCAM_modA_C.conf\"\n",
    "DIRFILTER = None\n",
    "if DIRFILTER!=None:\n",
    "    passband = \"/Users/npirzkal/Dropbox/NIRCAM/DATA/%s_FM.xlsx_filteronly_modA_sorted.txt\" % (DIRFILTER)\n",
    "else:\n",
    "    passband = None\n",
    "    "
   ]
  },
  {
   "cell_type": "code",
   "execution_count": 11,
   "metadata": {
    "collapsed": true
   },
   "outputs": [],
   "source": [
    "image_names = glob.glob(\"/Users/npirzkal/Dropbox/NIRCAM/GRISMCONF_SIM/macs0647/*_drz_F*.fits\")\n",
    "\n"
   ]
  },
  {
   "cell_type": "code",
   "execution_count": 12,
   "metadata": {
    "collapsed": false
   },
   "outputs": [
    {
     "name": "stdout",
     "output_type": "stream",
     "text": [
      "dir0: /Users/npirzkal/Dropbox/NIRCAM/GRISMCONF_SIM\n",
      "dir: 1\n",
      "dir0: /Users/npirzkal/Dropbox/NIRCAM/GRISMCONF_SIM\n",
      "dir: 1\n"
     ]
    }
   ],
   "source": [
    "def rebin(a, shape):\n",
    "    sh = shape[0],a.shape[0]//shape[0],shape[1],a.shape[1]//shape[1]\n",
    "    return a.reshape(sh).mean(-1).mean(1)\n",
    "\n",
    "\n",
    "seg_data = fits.open(\"/Users/npirzkal/Dropbox/NIRCAM/GRISMCONF_SIM/macs0647/z11_seg.fits\")[0].data\n",
    "seg_data = rebin(seg_data,np.array((5000,5000)))\n",
    "import nf\n",
    "\n",
    "\n",
    "nf.disp(seg_data)\n",
    "#seg_data[seg_data!=3469] = 0.\n",
    "seg_data[seg_data!=0] = 1.\n",
    "nf.disp(seg_data,2)\n",
    "\n"
   ]
  },
  {
   "cell_type": "code",
   "execution_count": 13,
   "metadata": {
    "collapsed": false
   },
   "outputs": [
    {
     "name": "stdout",
     "output_type": "stream",
     "text": [
      "485713 pixels to process\n",
      "Loaded /Users/npirzkal/Dropbox/NIRCAM/GRISMCONF_SIM/macs0647/hlsp_clash_hst_wfc3ir-30mas_macs0647_f105w_v1_drz_F250M.fits wavelength: 25039.0 A\n",
      "Loaded /Users/npirzkal/Dropbox/NIRCAM/GRISMCONF_SIM/macs0647/hlsp_clash_hst_wfc3ir-30mas_macs0647_f110w_v1_drz_F360M.fits wavelength: 36247.0 A\n",
      "Loaded /Users/npirzkal/Dropbox/NIRCAM/GRISMCONF_SIM/macs0647/hlsp_clash_hst_wfc3ir-30mas_macs0647_f125w_v1_drz_F410M.fits wavelength: 40720.0 A\n",
      "Loaded /Users/npirzkal/Dropbox/NIRCAM/GRISMCONF_SIM/macs0647/hlsp_clash_hst_wfc3ir-30mas_macs0647_f140w_v1_drz_F460M.fits wavelength: 46350.0 A\n",
      "Loaded /Users/npirzkal/Dropbox/NIRCAM/GRISMCONF_SIM/macs0647/hlsp_clash_hst_wfc3ir-30mas_macs0647_f160w_v1_drz_F480M.fits wavelength: 47941.0 A\n",
      "Splitting in chunks of 100\n"
     ]
    }
   ],
   "source": [
    "this_one = NIRCAM_Gsim.observation(image_names,seg_data,config,passband=passband,passband_unit=\"mu\",order=\"+1\")"
   ]
  },
  {
   "cell_type": "code",
   "execution_count": 14,
   "metadata": {
    "collapsed": false
   },
   "outputs": [
    {
     "name": "stdout",
     "output_type": "stream",
     "text": [
      "4857\n",
      "4858\n"
     ]
    },
    {
     "data": {
      "text/plain": [
       "38.333333333333336"
      ]
     },
     "execution_count": 14,
     "metadata": {},
     "output_type": "execute_result"
    }
   ],
   "source": [
    "tt = this_one.fs[25038.999999999996] * 1\n",
    "print len(this_one.fs[25038.999999999996][99])\n",
    "print len(this_one.xs[0])\n",
    "100*23/60."
   ]
  },
  {
   "cell_type": "code",
   "execution_count": null,
   "metadata": {
    "collapsed": false
   },
   "outputs": [
    {
     "name": "stdout",
     "output_type": "stream",
     "text": [
      "1 of 100\n",
      "4858 pixels loaded for dispersion...\n"
     ]
    },
    {
     "name": "stderr",
     "output_type": "stream",
     "text": []
    }
   ],
   "source": [
    "this_one.disperse_all()"
   ]
  },
  {
   "cell_type": "code",
   "execution_count": null,
   "metadata": {
    "collapsed": false
   },
   "outputs": [],
   "source": [
    "import NIRCAM_Gsim\n",
    "#import NIRCAM_Gsim.polyclip\n"
   ]
  },
  {
   "cell_type": "code",
   "execution_count": null,
   "metadata": {
    "collapsed": false
   },
   "outputs": [],
   "source": [
    "dir(NIRCAM_Gsim.polyclip.polyclip.polyclip_multi4 )"
   ]
  },
  {
   "cell_type": "code",
   "execution_count": null,
   "metadata": {
    "collapsed": true
   },
   "outputs": [],
   "source": []
  }
 ],
 "metadata": {
  "anaconda-cloud": {},
  "kernelspec": {
   "display_name": "Python [default]",
   "language": "python",
   "name": "python2"
  },
  "language_info": {
   "codemirror_mode": {
    "name": "ipython",
    "version": 2
   },
   "file_extension": ".py",
   "mimetype": "text/x-python",
   "name": "python",
   "nbconvert_exporter": "python",
   "pygments_lexer": "ipython2",
   "version": "2.7.12"
  }
 },
 "nbformat": 4,
 "nbformat_minor": 1
}
